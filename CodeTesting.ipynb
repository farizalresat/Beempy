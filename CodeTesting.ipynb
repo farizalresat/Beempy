{
 "cells": [
  {
   "cell_type": "markdown",
   "metadata": {},
   "source": [
    "# Import libraries"
   ]
  },
  {
   "cell_type": "code",
   "execution_count": 1,
   "metadata": {},
   "outputs": [
    {
     "output_type": "stream",
     "name": "stdout",
     "text": "Wall time: 1.22 s\n"
    }
   ],
   "source": [
    "%%time\n",
    "from beem.account import Account\n",
    "from beem.comment import Comment\n",
    "from beem.exceptions import ContentDoesNotExistsException"
   ]
  },
  {
   "cell_type": "code",
   "execution_count": 2,
   "metadata": {},
   "outputs": [
    {
     "output_type": "stream",
     "name": "stdout",
     "text": "Wall time: 1.95 s\n"
    }
   ],
   "source": [
    "%%time\n",
    "username = \"farizal\"\n",
    "account = Account(username)\n",
    "c_list = {}\n",
    "count = 0"
   ]
  },
  {
   "cell_type": "code",
   "execution_count": 5,
   "metadata": {},
   "outputs": [
    {
     "output_type": "stream",
     "name": "stdout",
     "text": "Wall time: 21min 25s\n"
    }
   ],
   "source": [
    "%%time\n",
    "f = open(\"hivepostlist.md\",'w',encoding=\"utf-8\")\n",
    "for c in map(Comment, account.history(only_ops=[\"comment\"])):\n",
    "    if c.permlink in c_list:\n",
    "      continue\n",
    "    try:\n",
    "         c.refresh()\n",
    "    except ContentDoesNotExistsException:\n",
    "         continue\n",
    "    c_list[c.permlink] = 1\n",
    "    if not c.is_comment():\n",
    "         title = \"\"\n",
    "         title = title.join(c.title.splitlines()) # Settled the titles with newline problem\n",
    "         count +=1\n",
    "         f.write(str(count) + \". [\" + title + \"]\" +\n",
    "         \"(\" +\"https://hive.blog/\"+\n",
    "          c.parent_permlink + \"/@\"+username+\"/\"+\n",
    "           c.permlink + \")\" + \"\\n\")\n",
    "f.close()"
   ]
  },
  {
   "cell_type": "code",
   "execution_count": null,
   "metadata": {},
   "outputs": [],
   "source": []
  }
 ],
 "metadata": {
  "language_info": {
   "codemirror_mode": {
    "name": "ipython",
    "version": 3
   },
   "file_extension": ".py",
   "mimetype": "text/x-python",
   "name": "python",
   "nbconvert_exporter": "python",
   "pygments_lexer": "ipython3",
   "version": "3.6.5-final"
  },
  "orig_nbformat": 2,
  "kernelspec": {
   "name": "python3",
   "display_name": "Python 3"
  }
 },
 "nbformat": 4,
 "nbformat_minor": 2
}